{
 "cells": [
  {
   "cell_type": "markdown",
   "id": "8c50e9b4-beaa-4300-9ee6-3478342616ed",
   "metadata": {},
   "source": [
    "# Algoritmo para estimativa de fase\n",
    "\n",
    "Um operador é unitário se $U^{-1}=U^\\dagger$, i.e., \n",
    "$$UU^\\dagger = U^\\dagger U=I.$$\n",
    "Vamos considerar a equação de autovalores e autovetores\n",
    "$$U|u\\rangle = u|u\\rangle.$$\n",
    "Tomando o produto interno desta equação com ela mesma, teremos que\n",
    "\\begin{align}\n",
    "& \\langle u|U^\\dagger U|u\\rangle = \\langle u|u^* u|u\\rangle \\\\\n",
    "& \\therefore\\ \\langle u|I|u\\rangle = |u|^2\\langle u|u\\rangle \\\\\n",
    "& \\therefore\\ 1 = |u|^2 \\therefore\\ 1 = |u|.\n",
    "\\end{align}\n",
    "Ou seja, os autovalores de um operador unitário tem módulo igual a um. Escrevendo os números complexos na forma polar, teremos então que\n",
    "$$u = |u|e^{i\\phi} = e^{i\\phi} =: e^{2\\pi i\\phi_u}.$$"
   ]
  },
  {
   "cell_type": "markdown",
   "id": "27b60b78-1770-41f9-89fe-4b70fef4a3e1",
   "metadata": {},
   "source": [
    "No algoritmo de estimativa de fase quântico (QPEA), assume-se a existência de uma caixa preta capaz de preparar o autovetor $|u\\rangle$ e de implementar a porta $U^{2^j}$ controlada, para $j$ inteiro positivo. Claro, assume-se que isso seja feito de forma eficiente. O __problema__ que queremos resolver aqui é calcular a fase desconhecida $\\phi_u$. O QPEA usa 2 registros. Um deles contém o número de qubits suficiente para codificar o estado $|u\\rangle$. O outro registro contém $t$ qubits, todos preparados inicialmente no estado $|0\\rangle$. Com isso, o estado inicial será\n",
    "$$|\\Psi_0\\rangle = |0\\rangle^{\\otimes t}\\otimes|u\\rangle.$$\n",
    "\n",
    "Na sequência, aplicamos uma porta Hadamard em cada um dos qubits do 1º registro, obtendo assim\n",
    "\\begin{align}\n",
    "|\\Psi_1\\rangle & = (H^{\\otimes t}\\otimes I)(|0\\rangle^{\\otimes t}\\otimes|u\\rangle) \\\\\n",
    "& = |+\\rangle^{\\otimes t}\\otimes|u\\rangle \\\\\n",
    "& = 2^{-t/2}\\big(|0\\rangle_1+|1\\rangle_1\\big)\\otimes\\big(|0\\rangle_2+|1\\rangle_2\\big)\\otimes\\cdots\\otimes\\big(|0\\rangle_{t}+|1\\rangle_{t}\\big)\\otimes|u\\rangle\n",
    "\\end{align}"
   ]
  },
  {
   "cell_type": "markdown",
   "id": "693638b4-95a0-47a9-820e-535264b3a6df",
   "metadata": {},
   "source": [
    "Seguindo, aplica-se portas $U^{2^j}$ controladas, com o 2º registro como target e com o qubit \n",
    "$$s=1,2,\\cdots,t$$\n",
    "como controle, de forma que \n",
    "$$j=t-s.$$\n",
    "Por exemplo, para o qubit $s=1$ como controle, teremos\n",
    "\\begin{align}\n",
    "|\\Psi_2\\rangle & = C_{U^{2^{t-1}}}^{1\\rightarrow 2ºr}|\\Psi_1\\rangle \\\\\n",
    "& = 2^{-t/2}\\big(|0\\rangle_1\\otimes I|u\\rangle+|1\\rangle_1\\otimes U^{2^{t-1}}|u\\rangle\\big)\\otimes\\big(|0\\rangle_2+|1\\rangle_2\\big)\\otimes\\cdots\\otimes\\big(|0\\rangle_{t}+|1\\rangle_{t}\\big) \\\\\n",
    "& = 2^{-t/2}\\big(|0\\rangle_1\\otimes |u\\rangle+|1\\rangle_1\\otimes e^{2\\pi i\\phi_u 2^{t-1}}|u\\rangle\\big)\\otimes\\big(|0\\rangle_2+|1\\rangle_2\\big)\\otimes\\cdots\\otimes\\big(|0\\rangle_{t}+|1\\rangle_{t}\\big) \\\\\n",
    "& = 2^{-t/2}\\big(|0\\rangle_1+e^{2\\pi i2^{t-1}\\phi_u}|1\\rangle_1 \\big)\\otimes\\big(|0\\rangle_2+|1\\rangle_2\\big)\\otimes\\cdots\\otimes\\big(|0\\rangle_{t}+|1\\rangle_{t}\\big)\\otimes |u\\rangle.\n",
    "\\end{align}\n",
    "Note que acima usamos que, para \n",
    "$$U=\\sum_u u|u\\rangle\\langle u|,$$ \n",
    "temos \n",
    "$$U^{2^j}=\\sum_u u^{2^j}|u\\rangle\\langle u|.$$\n",
    "Então, para \n",
    "$$u=e^{2\\pi i\\phi_u}$$ \n",
    "sendo autovalor de $U$, o autovalor correspondente de $U^{2^j}$ será \n",
    "$$u^{2^j}=e^{2\\pi i\\phi_u 2^j}.$$"
   ]
  },
  {
   "cell_type": "markdown",
   "id": "b7d7bd96-f81f-4b75-aae3-e03a5f592787",
   "metadata": {},
   "source": [
    "Do mesmo modo, continuando com a aplicação das portas $U^{2^{t-s}}$ controladas para o qubit $s=2,\\cdots,t$ como controle, obteremos o estado\n",
    "\\begin{align}\n",
    "|\\Psi_3\\rangle & = 2^{-t/2}\\big(|0\\rangle_1+e^{2\\pi i2^{t-1}\\phi_u}|1\\rangle_1 \\big)\\otimes\\big(|0\\rangle_2+e^{2\\pi i2^{t-2}\\phi_u}|1\\rangle_2\\big)\\otimes\\cdots\\otimes\\big(|0\\rangle_{t}+e^{2\\pi i2^{0}\\phi_u}|1\\rangle_{t}\\big)\\otimes |u\\rangle.\n",
    "\\end{align}\n",
    "\n",
    "Vimos que a transformada de Fourier tem a seguinte ação em estados da base computacional:\n",
    "\\begin{align}\n",
    "F|j\\rangle & = 2^{-t/2}\\sum_{k=0}^{2^{t}-1}e^{2\\pi ijk2^{-t}}|k\\rangle \\\\\n",
    "& = F|j_{1}\\cdots j_{t}\\rangle \\\\\n",
    "& = 2^{-t/2}\\big(|0\\rangle+e^{2\\pi ij2^{-1}}|1\\rangle\\big)\\otimes\\big(|0\\rangle+e^{2\\pi ij2^{-2}}|1\\rangle\\big)\\otimes\\cdots \\otimes\\big(|0\\rangle+e^{2\\pi ij2^{-t}}|1\\rangle\\big).\n",
    "\\end{align}\n",
    "\n",
    "Identificando\n",
    "$$j=2^t \\phi_u,$$\n",
    "teremos que\n",
    "\\begin{align}\n",
    "F|2^t \\phi_u\\rangle & = 2^{-t/2}\\sum_{k=0}^{2^{t}-1}e^{2\\pi ik\\phi_u}|k\\rangle \\\\\n",
    "& = 2^{-t/2}\\big(|0\\rangle_1+e^{2\\pi i2^{t-1}\\phi_u}|1\\rangle_1 \\big)\\otimes\\big(|0\\rangle_2+e^{2\\pi i2^{t-2}\\phi_u}|1\\rangle_2\\big)\\otimes\\cdots\\otimes\\big(|0\\rangle_{t}+e^{2\\pi i2^{0}\\phi_u}|1\\rangle_{t}\\big).\n",
    "\\end{align}\n",
    "Claro, aqui tem o detalhe de que estamos extendendo para o número real $2^t \\phi_u$ o que foi obtido para o número inteiro $j$.\n",
    "\n",
    "Mas, com essa suposição, obtemos o __estado final__ \n",
    "$$|2^t \\phi_u\\rangle = F^\\dagger\\Big(2^{-t/2}\\big(|0\\rangle_1+e^{2\\pi i2^{t-1}\\phi_u}|1\\rangle_1 \\big)\\otimes\\big(|0\\rangle_2+e^{2\\pi i2^{t-2}\\phi_u}|1\\rangle_2\\big)\\otimes\\cdots\\otimes\\big(|0\\rangle_{t}+e^{2\\pi i2^{0}\\phi_u}|1\\rangle_{t}\\big)\\Big).$$"
   ]
  },
  {
   "cell_type": "markdown",
   "id": "c347330b-845a-4553-a028-1e6a6e0c1c42",
   "metadata": {},
   "source": [
    "Então, a penúltima fase do QPEA é aplicar a transformada de Fourier inversa, $F^\\dagger$, aos $t$ qubits do 1º registro. Feito isso, obteremos o estado $|2^t \\phi_u\\rangle$. Por fim, fazemos uma medida na base computacional no 1º registro, obtendo e.g.\n",
    "$$|\\phi_1 \\phi_2 \\cdots \\phi_t\\rangle,$$\n",
    "com \n",
    "$$\\phi_s = 0,1 \\text{ para } s=0,\\cdots,t.$$\n",
    "Com isso, a fase é estimada usando-se\n",
    "$$\\phi_u \\approx 2^{-t}\\sum_{j=1}^{t}\\phi_j 2^{t-j}.$$\n",
    "\n",
    "## Implementação geral"
   ]
  },
  {
   "cell_type": "code",
   "execution_count": 3,
   "id": "84ff835a-4a2c-412a-994c-185dc4dbd423",
   "metadata": {},
   "outputs": [],
   "source": [
    "from qiskit import *\n",
    "import numpy as np\n",
    "import math\n",
    "import qiskit\n",
    "nshots = 8192\n",
    "IBMQ.load_account()\n",
    "provider = qiskit.IBMQ.get_provider(hub='ibm-q', group='open', project='main')\n",
    "device = provider.get_backend('ibmq_belem')\n",
    "simulator = Aer.get_backend('qasm_simulator')\n",
    "from qiskit.tools.monitor import job_monitor\n",
    "#from qiskit.ignis.verification.tomography import state_tomography_circuits, StateTomographyFitter\n",
    "#from qiskit.ignis.mitigation.measurement import complete_meas_cal, CompleteMeasFitter\n",
    "from qiskit.visualization import plot_histogram"
   ]
  },
  {
   "cell_type": "code",
   "execution_count": 4,
   "id": "8e842b36-ea91-406a-8469-53bd4a8872c6",
   "metadata": {},
   "outputs": [],
   "source": [
    "def qc_iqft(n):\n",
    "    qr = QuantumRegister(n); qc = QuantumCircuit(qr, name = 'IQFT')\n",
    "    if n%2 == 0:\n",
    "        ul = n//2\n",
    "    else:\n",
    "        ul = (n-1)//2\n",
    "    for p in range(ul-1, -1, -1):\n",
    "        qc.swap(p, n-1-p)\n",
    "    #qc.barrier()\n",
    "    for l in range(n-1, -1, -1):\n",
    "        if l < n-1:\n",
    "            for q in range(n-1, l+1-1, -1):\n",
    "                lb = -2*math.pi*2**(-q+l-1)#; print(lb)\n",
    "                qc.cp(lb, qr[q], qr[l])\n",
    "        qc.h(qr[l])\n",
    "        #qc.barrier()\n",
    "    return qc"
   ]
  },
  {
   "cell_type": "code",
   "execution_count": 6,
   "id": "d8990db8-c7b4-49d2-8f4b-103984c14dd3",
   "metadata": {},
   "outputs": [
    {
     "data": {
      "image/png": "[encoded data removed]",
      "text/plain": [
       "<Figure size 974.616x284.278 with 1 Axes>"
      ]
     },
     "execution_count": 6,
     "metadata": {},
     "output_type": "execute_result"
    }
   ],
   "source": [
    "n = 3\n",
    "qc_iqft_ = qc_iqft(n)\n",
    "qc_iqft_.draw('mpl')"
   ]
  },
  {
   "cell_type": "code",
   "execution_count": 15,
   "id": "c09f9830-bd20-430b-be9e-4e0c05fae432",
   "metadata": {},
   "outputs": [
    {
     "data": {
      "image/png": "[encoded data removed]",
      "text/plain": [
       "<Figure size 240.548x451.5 with 1 Axes>"
      ]
     },
     "execution_count": 15,
     "metadata": {},
     "output_type": "execute_result"
    }
   ],
   "source": [
    "def qc_qpe(t,n): # n is the number of qubits to apply U\n",
    "    nqb = t+n\n",
    "    qr = QuantumRegister(nqb)\n",
    "    cr = ClassicalRegister(t)\n",
    "    qc = QuantumCircuit(qr,cr)\n",
    "    for j in range(0,t): # apply the hadamards\n",
    "        qc.h(j)\n",
    "    qbl = []\n",
    "    qc.x(3) # prepares the eigenvector of U\n",
    "    return qc\n",
    "qc_qpe_ = qc_qpe(3,1)\n",
    "qc_qpe_.draw('mpl')"
   ]
  },
  {
   "cell_type": "code",
   "execution_count": null,
   "id": "fedd8329-0cc7-48f8-9bb0-9053f0b41fe6",
   "metadata": {},
   "outputs": [],
   "source": []
  }
 ],
 "metadata": {
  "kernelspec": {
   "display_name": "Python 3 (ipykernel)",
   "language": "python",
   "name": "python3"
  },
  "language_info": {
   "codemirror_mode": {
    "name": "ipython",
    "version": 3
   },
   "file_extension": ".py",
   "mimetype": "text/x-python",
   "name": "python",
   "nbconvert_exporter": "python",
   "pygments_lexer": "ipython3",
   "version": "3.9.13"
  }
 },
 "nbformat": 4,
 "nbformat_minor": 5
}
