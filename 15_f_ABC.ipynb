{
 "cells": [
  {
   "cell_type": "markdown",
   "id": "f1b25c01-2d47-4b03-be57-fa9715aa9694",
   "metadata": {},
   "source": [
    "# Cálculo mais eficiente da fidelidade, e de outras funções\n",
    "\n",
    "Em (https://arxiv.org/abs/2211.02623), os autores mostraram como fazer uma diagonalização a menos para calcular a fidelidade. Aqui demostramos um resultado mais geral que contém o deles como um caso particular.\n",
    "\n",
    "Começamos escrevendo uma função do produto de três operadores como uma série de potências\n",
    "$$f(ABC) = \\sum_{j=0}^\\infty c_j (ABC)^j.$$\n",
    "Usando a propriedade cíclica do traço, teremos que\n",
    "\\begin{align}\n",
    "Tr((ABC)^j) & = Tr(ABCABC\\cdots ABC) \\\\\n",
    "& = Tr(CABCAB\\cdots CAB) \\\\\n",
    "& = Tr((CAB)^j).\n",
    "\\end{align}"
   ]
  },
  {
   "cell_type": "markdown",
   "id": "8db093c9-e17b-47e4-9da5-809a0df761da",
   "metadata": {},
   "source": [
    "Com isso, usando a linearidade do traço, podemos escrever\n",
    "\\begin{align}\n",
    "Tr(f(ABC)) & = Tr\\Big(\\sum_{j=0}^\\infty c_j (ABC)^j\\Big) \\\\\n",
    "& = \\sum_{j=0}^\\infty c_j Tr((ABC)^j) \\\\\n",
    "& = \\sum_{j=0}^\\infty c_j Tr((CAB)^j) \\\\\n",
    "& = Tr\\Big(\\sum_{j=0}^\\infty c_j (CAB)^j\\Big) \\\\\n",
    "& = Tr(f(CAB)). \\hspace{2cm} (\\star)\n",
    "\\end{align}"
   ]
  },
  {
   "cell_type": "markdown",
   "id": "85c4b13e-5e3e-4614-a676-ff3c2c4444ee",
   "metadata": {},
   "source": [
    "## Aplicação: Fidelidade\n",
    "\n",
    "A fidelidade entre dois estados quânticos $\\rho$ e $\\sigma$ é definica como\n",
    "$$F(\\rho,\\sigma) = \\big(Tr\\sqrt{\\sqrt{\\rho}\\sigma\\sqrt{\\rho}}\\big)^2.$$\n",
    "\n",
    "Aplicando o resultado $(\\star)$, com $A=C=\\sqrt{\\rho}$ e $B=\\sigma$ e $f(\\cdot)=\\sqrt{\\cdot}$ teremos que\n",
    "\\begin{align}\n",
    "\\sqrt{F(\\rho,\\sigma)} & = Tr\\sqrt{\\sqrt{\\rho}\\sigma\\sqrt{\\rho}} \\\\\n",
    "& = Tr\\sqrt{\\sqrt{\\rho}\\sqrt{\\rho}\\sigma} \\\\\n",
    "& = Tr\\sqrt{\\rho\\sigma},\n",
    "\\end{align}\n",
    "que é o resultado obtido em (https://arxiv.org/abs/2211.02623)."
   ]
  },
  {
   "cell_type": "markdown",
   "id": "e946c537-3268-448a-a6dd-fe75a75a6128",
   "metadata": {},
   "source": [
    "## Aplicação: Distâncias de Bures e de Hellinger \n",
    "As an application of this result, let us study the relation between the Hellinger and Bures distances. The Hilbert-Schmidt norm of a linear operator $A$ in the Hilbert space $\\mathcal{H}$ is defined as $||A||_{hs}^2 = \\langle A|A\\rangle_{hs} = Tr(A^\\dagger A)$. The Hilbert-Schmidt distance between two density operators $\\rho$ and $\\sigma$ is then defined as $d_{hs}(\\rho,\\sigma) = ||\\rho-\\sigma||_{hs}$. By its turn, the Hellinger distance is defined as follows:\n",
    "\\begin{equation}\n",
    "d_{he}(\\rho,\\sigma) = ||\\sqrt{\\rho}-\\sqrt{\\sigma}||_{hs} = \\sqrt{2-2Tr(\\sqrt{\\rho}\\sqrt{\\sigma})}.\n",
    "\\end{equation}\n",
    "Using the fidelity as written in Eq. (\\ref{eq:fid}), the Bures distance can be written as\n",
    "\\begin{equation}\n",
    "d_{bu}(\\rho,\\sigma)=\\sqrt{2-2\\sqrt{F(\\rho,\\sigma)}} = \\sqrt{2-2Tr(\\sqrt{\\rho\\sigma})}.\n",
    "\\end{equation}\n",
    "So, these distances are the same whenever $Tr(\\sqrt{\\rho\\sigma})=Tr(\\sqrt{\\rho}\\sqrt{\\sigma})$. Of course, for commuting states, $[\\rho,\\sigma]=0$, we have $\\sqrt{\\rho\\sigma}=\\sqrt{\\rho}\\sqrt{\\sigma}$, and thus $d_{he}(\\rho,\\sigma)=d_{bu}(\\rho,\\sigma)$ in this case."
   ]
  },
  {
   "cell_type": "markdown",
   "id": "9a98ebbd-7d93-40ad-aa90-af8538d4f687",
   "metadata": {},
   "source": [
    "## Aplicação: Informação enviesada de Wigner e Yanase\n",
    "\n",
    "A informação enviesada de Wigner e Yanase (IWY) é definida por\n",
    "\\begin{align}\n",
    "I_{wy}(\\rho,H) & = -2^{-1}Tr[\\sqrt{\\rho},H]^2 \\\\\n",
    "& = -2^{-1}Tr(\\sqrt{\\rho}H-H\\sqrt{\\rho})^2 \\\\\n",
    "& = -2^{-1}Tr(\\sqrt{\\rho}H\\sqrt{\\rho}H - \\sqrt{\\rho}HH\\sqrt{\\rho} - H\\sqrt{\\rho}\\sqrt{\\rho}H + H\\sqrt{\\rho}H\\sqrt{\\rho}) \\\\\n",
    "& = Tr(H^2\\rho) - Tr(\\sqrt{\\rho}H\\sqrt{\\rho}H).\n",
    "\\end{align}\n",
    "Aqui, mesmo que nosso resultado possa ser usado para simplificar o cálculo analítico do último termo, não haverá ganho computacional. Por conseguinte, desconsiderar essa aplicação! O mesmo vale para a informação enviesada de Wigner, Yanase e Dyson:\n",
    "\\begin{align}\n",
    "I_{wyd}^s(\\rho,H) & = -2^{-1}Tr[\\rho^s,H][\\rho^{1-s},H] \\\\\n",
    "& = Tr(H^2\\rho)-Tr(\\rho^s H\\rho^{1-s}H).\n",
    "\\end{align}\n",
    "Vale observar que $I_{wyd}^{1/2}=I_{wy}$ e que\n",
    "$$I_{wyd}^s(|\\psi\\rangle,H)=Var(H)_\\psi.$$"
   ]
  },
  {
   "cell_type": "markdown",
   "id": "3ca56da3-bf27-49c5-b9de-fc317009dda9",
   "metadata": {},
   "source": [
    "## Aplicação: Divergência de Rényi quântica\n",
    "$$\\tilde{D}_\\alpha (\\rho||\\sigma) = \\frac{1}{\\alpha-1}\\log\\Big(\\frac{1}{Tr(\\rho)}Tr\\big[\\sigma^{(1-\\alpha)/2\\alpha}\\rho\\sigma^{(1-\\alpha)/2\\alpha}\\big]^\\alpha\\Big)$$"
   ]
  },
  {
   "cell_type": "code",
   "execution_count": null,
   "id": "bee2f64b-2f4d-4a9e-a0f8-c9ad4cc872c3",
   "metadata": {},
   "outputs": [],
   "source": []
  }
 ],
 "metadata": {
  "kernelspec": {
   "display_name": "Python 3 (ipykernel)",
   "language": "python",
   "name": "python3"
  },
  "language_info": {
   "codemirror_mode": {
    "name": "ipython",
    "version": 3
   },
   "file_extension": ".py",
   "mimetype": "text/x-python",
   "name": "python",
   "nbconvert_exporter": "python",
   "pygments_lexer": "ipython3",
   "version": "3.8.11"
  }
 },
 "nbformat": 4,
 "nbformat_minor": 5
}
