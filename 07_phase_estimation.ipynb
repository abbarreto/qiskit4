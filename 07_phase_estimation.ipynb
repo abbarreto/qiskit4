{
 "cells": [
  {
   "cell_type": "markdown",
   "id": "8c50e9b4-beaa-4300-9ee6-3478342616ed",
   "metadata": {},
   "source": [
    "# Algoritmo para estimativa de fase\n",
    "\n",
    "Um operador é unitário se \n",
    "$$U^{-1}=U^\\dagger,$$\n",
    "i.e., \n",
    "$$UU^\\dagger = U^\\dagger U=I.$$\n",
    "Vamos considerar a equação de autovalores e autovetores\n",
    "$$U|u\\rangle = u|u\\rangle.$$\n",
    "Tomando o produto interno desta equação com ela mesma, teremos que\n",
    "\\begin{align}\n",
    "& \\langle u|U^\\dagger U|u\\rangle = \\langle u|u^* u|u\\rangle \\\\\n",
    "& \\therefore\\ \\langle u|I|u\\rangle = |u|^2\\langle u|u\\rangle \\\\\n",
    "& \\therefore\\ 1 = |u|^2 \\therefore\\ 1 = |u|.\n",
    "\\end{align}\n",
    "Ou seja, os autovalores de um operador unitário tem módulo igual a um. Escrevendo os números complexos na forma polar, teremos então que\n",
    "$$u = |u|e^{i\\phi} = e^{i\\phi} =: e^{2\\pi i\\phi_u}.$$"
   ]
  },
  {
   "cell_type": "markdown",
   "id": "27b60b78-1770-41f9-89fe-4b70fef4a3e1",
   "metadata": {},
   "source": [
    "No algoritmo de estimativa de fase quântico (QPEA), assume-se a existência de uma __caixa preta__ capaz de preparar o autovetor \n",
    "$$|u\\rangle$$\n",
    "e de implementar a porta \n",
    "$$U^{2^j}$$\n",
    "controlada, para $j$ inteiro positivo. Claro, assume-se que isso seja feito de forma eficiente. \n",
    "\n",
    "O __problema__ que queremos resolver aqui é calcular a fase desconhecida $\\phi_u$. O QPEA usa __2 registros__. Um deles contém o número de qubits suficiente para codificar o estado $|u\\rangle$. O outro registro contém $t$ qubits, todos preparados inicialmente no estado $|0\\rangle$. \n",
    "\n",
    "Com isso, o estado inicial será\n",
    "$$|\\Psi_0\\rangle = |0\\rangle^{\\otimes t}\\otimes|u\\rangle.$$\n",
    "\n",
    "Na sequência, aplicamos uma porta Hadamard em cada um dos qubits do 1º registro, obtendo assim\n",
    "\\begin{align}\n",
    "|\\Psi_1\\rangle & = (H^{\\otimes t}\\otimes I)(|0\\rangle^{\\otimes t}\\otimes|u\\rangle) \\\\\n",
    "& = |+\\rangle^{\\otimes t}\\otimes|u\\rangle \\\\\n",
    "& = 2^{-t/2}\\big(|0\\rangle_1+|1\\rangle_1\\big)\\otimes\\big(|0\\rangle_2+|1\\rangle_2\\big)\\otimes\\cdots\\otimes\\big(|0\\rangle_{t}+|1\\rangle_{t}\\big)\\otimes|u\\rangle\n",
    "\\end{align}"
   ]
  },
  {
   "cell_type": "markdown",
   "id": "d7e0e9b7",
   "metadata": {},
   "source": [
    "<img src='fig_phase_estimation.png' width='300'>\n",
    "<img src='fig_phase_estimation_.png' width='500'>"
   ]
  },
  {
   "cell_type": "markdown",
   "id": "693638b4-95a0-47a9-820e-535264b3a6df",
   "metadata": {},
   "source": [
    "Seguindo, aplica-se portas $U^{2^j}$ controladas, com o 2º registro (2ºr) como target e com o qubit \n",
    "$$s=1,2,\\cdots,t$$\n",
    "como controle, de forma que \n",
    "$$j=t-s.$$\n",
    "Por exemplo, para o qubit $s=1$ como controle, teremos\n",
    "\\begin{align}\n",
    "|\\Psi_2\\rangle & = C_{U^{2^{t-1}}}^{1\\rightarrow (2ºr)}|\\Psi_1\\rangle \\\\\n",
    "& = 2^{-t/2}\\big(|0\\rangle_1\\otimes I|u\\rangle+|1\\rangle_1\\otimes U^{2^{t-1}}|u\\rangle\\big)\\otimes\\big(|0\\rangle_2+|1\\rangle_2\\big)\\otimes\\cdots\\otimes\\big(|0\\rangle_{t}+|1\\rangle_{t}\\big) \\\\\n",
    "& = 2^{-t/2}\\big(|0\\rangle_1\\otimes |u\\rangle+|1\\rangle_1\\otimes e^{2\\pi i\\phi_u 2^{t-1}}|u\\rangle\\big)\\otimes\\big(|0\\rangle_2+|1\\rangle_2\\big)\\otimes\\cdots\\otimes\\big(|0\\rangle_{t}+|1\\rangle_{t}\\big) \\\\\n",
    "& = 2^{-t/2}\\big(|0\\rangle_1+e^{2\\pi i2^{t-1}\\phi_u}|1\\rangle_1 \\big)\\otimes\\big(|0\\rangle_2+|1\\rangle_2\\big)\\otimes\\cdots\\otimes\\big(|0\\rangle_{t}+|1\\rangle_{t}\\big)\\otimes |u\\rangle.\n",
    "\\end{align}\n",
    "Note que acima usamos que, para \n",
    "$$U=\\sum_u u|u\\rangle\\langle u|,$$ \n",
    "temos \n",
    "$$U^{2^j}=\\sum_u u^{2^j}|u\\rangle\\langle u|.$$\n",
    "Então, para \n",
    "$$u=e^{2\\pi i\\phi_u}$$ \n",
    "sendo autovalor de $U$, o autovalor correspondente de $U^{2^j}$ será \n",
    "$$u^{2^j}=e^{2\\pi i\\phi_u 2^j}.$$"
   ]
  },
  {
   "cell_type": "markdown",
   "id": "b7d7bd96-f81f-4b75-aae3-e03a5f592787",
   "metadata": {},
   "source": [
    "Do mesmo modo, continuando com a aplicação das portas $U^{2^{t-s}}$ controladas para o qubit $s=2,\\cdots,t$ como controle, obteremos o estado\n",
    "\\begin{align}\n",
    "|\\Psi_3\\rangle & = 2^{-t/2}\\big(|0\\rangle_1+e^{2\\pi i2^{t-1}\\phi_u}|1\\rangle_1 \\big)\\otimes\\big(|0\\rangle_2+e^{2\\pi i2^{t-2}\\phi_u}|1\\rangle_2\\big)\\otimes\\cdots\\otimes\\big(|0\\rangle_{t}+e^{2\\pi i2^{t-t}\\phi_u}|1\\rangle_{t}\\big)\\otimes |u\\rangle \\\\\n",
    "& = |\\psi_3\\rangle\\otimes|u\\rangle.\n",
    "\\end{align}\n",
    "\n",
    "Vimos que a transformada de Fourier tem a seguinte ação em estados da base computacional:\n",
    "\\begin{align}\n",
    "F|j\\rangle & = \\frac{1}{2^t}\\sum_{k=0}^{2^{t}-1}e^{2\\pi ijk2^{-t}}|k\\rangle \\\\\n",
    "& = F|j_{1}\\cdots j_{t}\\rangle \\\\\n",
    "& = 2^{-t/2}\\big(|0\\rangle+e^{2\\pi ij2^{-1}}|1\\rangle\\big)\\otimes\\big(|0\\rangle+e^{2\\pi ij2^{-2}}|1\\rangle\\big)\\otimes\\cdots \\otimes\\big(|0\\rangle+e^{2\\pi ij2^{-t}}|1\\rangle\\big).\n",
    "\\end{align}\n",
    "\n",
    "Se $2^t \\phi_u$ fosse um número inteiro, poderíamos identificar\n",
    "$$j=2^t \\phi_u.$$\n",
    "Com isso, teríamos que\n",
    "\\begin{align}\n",
    "F|2^t \\phi_u\\rangle & = \\frac{1}{2^t}\\sum_{k=0}^{2^{t}-1}e^{2\\pi ik\\phi_u}|k\\rangle \\\\\n",
    "& = 2^{-t/2}\\big(|0\\rangle_1+e^{2\\pi i2^{t-1}\\phi_u}|1\\rangle_1 \\big)\\otimes\\big(|0\\rangle_2+e^{2\\pi i2^{t-2}\\phi_u}|1\\rangle_2\\big)\\otimes\\cdots\\otimes\\big(|0\\rangle_{t}+e^{2\\pi i2^{0}\\phi_u}|1\\rangle_{t}\\big).\n",
    "\\end{align}"
   ]
  },
  {
   "cell_type": "markdown",
   "id": "c347330b-845a-4553-a028-1e6a6e0c1c42",
   "metadata": {},
   "source": [
    "Com essa suposição, de que $2^t \\phi_u \\in \\mathbb{Z}$, obteríamos o __estado final__ \n",
    "$$|2^t \\phi_u\\rangle = F^\\dagger F|2^t \\phi_u\\rangle = F^\\dagger\\Big(2^{-t/2}\\big(|0\\rangle_1+e^{2\\pi i2^{t-1}\\phi_u}|1\\rangle_1 \\big)\\otimes\\big(|0\\rangle_2+e^{2\\pi i2^{t-2}\\phi_u}|1\\rangle_2\\big)\\otimes\\cdots\\otimes\\big(|0\\rangle_{t}+e^{2\\pi i2^{0}\\phi_u}|1\\rangle_{t}\\big)\\Big).$$\n",
    "\n",
    "Então, a penúltima fase do QPEA é aplicar a transformada de Fourier inversa, $F^\\dagger$, aos $t$ qubits do 1º registro. Feito isso, obteremos o estado $|2^t \\phi_u\\rangle$. Por fim, fazemos uma medida na base computacional no 1º registro, obtendo e.g.\n",
    "$$|b\\rangle = |b_1 b_2 \\cdots b_t\\rangle,$$\n",
    "com \n",
    "$$b_s = 0,1 \\text{ para } s=0,\\cdots,t.$$\n",
    "Com isso, a fase é estimada usando-se\n",
    "$$\\phi_u = 2^{-t}b = 2^{-t}\\sum_{j=1}^{t}b_j 2^{t-j}.$$"
   ]
  },
  {
   "cell_type": "markdown",
   "id": "a72dcfa5",
   "metadata": {},
   "source": [
    "## Exemplo: Porta $T$\n",
    "\n",
    "Essa porta é\n",
    "$$T = \\begin{bmatrix} 1 & 0 \\\\ 0 & e^{i\\pi/4}\\end{bmatrix}.$$\n",
    "Teremos assim que\n",
    "$$T|1\\rangle = e^{i\\pi/4}|1\\rangle = e^{2\\pi i/8}|1\\rangle = e^{2\\pi i\\phi_1}|1\\rangle.$$\n",
    "Ou seja\n",
    "$$\\phi_1 = \\frac{1}{8}.$$\n",
    "Aqui vamos usar\n",
    "$$t=3$$\n",
    "qubits."
   ]
  },
  {
   "cell_type": "code",
   "execution_count": 11,
   "id": "fe508c8d",
   "metadata": {},
   "outputs": [
    {
     "name": "stderr",
     "output_type": "stream",
     "text": [
      "ibmqfactory.load_account:WARNING:2023-05-09 19:15:42,022: Credentials are already in use. The existing account in the session will be replaced.\n"
     ]
    }
   ],
   "source": [
    "from qiskit import *\n",
    "import numpy as np\n",
    "import math\n",
    "from matplotlib import pyplot as plt\n",
    "import qiskit\n",
    "nshots = 8192\n",
    "IBMQ.load_account()\n",
    "provider = qiskit.IBMQ.get_provider(hub='ibm-q', group='open', project='main')\n",
    "device = provider.get_backend('ibmq_belem')\n",
    "simulator = Aer.get_backend('qasm_simulator')\n",
    "from qiskit.tools.monitor import job_monitor\n",
    "from qiskit.ignis.verification.tomography import state_tomography_circuits, StateTomographyFitter\n",
    "#from qiskit.ignis.mitigation.measurement import complete_meas_cal, CompleteMeasFitter\n",
    "from qiskit.visualization import plot_histogram"
   ]
  },
  {
   "cell_type": "code",
   "execution_count": 13,
   "id": "8b0451a4",
   "metadata": {},
   "outputs": [
    {
     "data": {
      "image/png": "[encoded data removed]",
      "text/plain": [
       "<Figure size 222.318x451.5 with 1 Axes>"
      ]
     },
     "execution_count": 13,
     "metadata": {},
     "output_type": "execute_result"
    }
   ],
   "source": [
    "qr = QuantumRegister(4)\n",
    "cr = ClassicalRegister(3)\n",
    "qc = QuantumCircuit(qr, cr)\n",
    "qc.x(3)\n",
    "qc.h([0,1,2])\n",
    "qc.draw('mpl')"
   ]
  },
  {
   "cell_type": "code",
   "execution_count": null,
   "id": "05a5204d",
   "metadata": {},
   "outputs": [],
   "source": []
  },
  {
   "cell_type": "code",
   "execution_count": null,
   "id": "9a0a6d0c",
   "metadata": {},
   "outputs": [],
   "source": []
  },
  {
   "cell_type": "code",
   "execution_count": null,
   "id": "f8b5b341",
   "metadata": {},
   "outputs": [],
   "source": []
  },
  {
   "cell_type": "markdown",
   "id": "e1d80cfb",
   "metadata": {},
   "source": [
    "## Performance\n",
    "\n",
    "Vimos que depois da aplicação das portas unitárias controladas o estado dos $t$ qubits do 1º registro é dado por\n",
    "$$|\\psi_3\\rangle = \\frac{1}{2^{t/2}}\\sum_{k=0}^{2^t -1}e^{2\\pi i k\\phi_u}|k\\rangle.$$\n",
    "Lembremos que a transformada de Fourier discreta quântica e sua inversa são\n",
    "\\begin{align}\n",
    "& F = \\frac{1}{2^{t/2}}\\sum_{k,l=0}^{2^t - 1}e^{2\\pi i kl 2^{-t}}|k\\rangle\\langle l|, \\\\\n",
    "& F^\\dagger = \\frac{1}{2^{t/2}}\\sum_{k,l=0}^{2^t - 1}e^{-2\\pi i kl 2^{-t}}|l\\rangle\\langle k| \\equiv \\frac{1}{2^{t/2}}\\sum_{k,l=0}^{2^t - 1}e^{-2\\pi i kl 2^{-t}}|k\\rangle\\langle l|.\n",
    "\\end{align}"
   ]
  },
  {
   "cell_type": "markdown",
   "id": "010169f0",
   "metadata": {},
   "source": [
    "Com isso, o estado final do protocolo de estimativa de fase será\n",
    "\\begin{align}\n",
    "|\\psi_4\\rangle & = F^\\dagger|\\psi_3\\rangle \\\\\n",
    "& = \\frac{1}{2^{t/2}}\\sum_{k,l=0}^{2^t - 1}e^{-2\\pi i kl 2^{-t}}|l\\rangle\\langle k|\\frac{1}{2^{t/2}}\\sum_{j=0}^{2^t -1}e^{2\\pi i j\\phi_u}|j\\rangle \\\\\n",
    "& = \\frac{1}{2^t}\\sum_{k,l,j=0}^{2^t - 1}e^{-2\\pi i kl 2^{-t}}e^{2\\pi i j\\phi_u}|l\\rangle\\langle k|j\\rangle \\\\\n",
    "& = \\sum_{l=0}^{2^t - 1}\\Big(\\frac{1}{2^t}\\sum_{k=0}^{2^t - 1}e^{-2\\pi i kl 2^{-t}+2\\pi i k\\phi_u}\\Big)|l\\rangle \\\\\n",
    "& = \\sum_{l=0}^{2^t - 1}\\Big(\\frac{1}{2^t}\\sum_{k=0}^{2^t - 1}\\big(e^{2\\pi i(\\phi_u - l 2^{-t})}\\big)^k\\Big)|l\\rangle \\\\\n",
    "& =: \\sum_{l=0}^{2^t - 1}\\alpha_l|l\\rangle.\n",
    "\\end{align}"
   ]
  },
  {
   "cell_type": "markdown",
   "id": "5f1d8e35",
   "metadata": {},
   "source": [
    "Precisaremos da série geométrica\n",
    "$$S_n = \\sum_{j=0}^{n-1}ar^j = \\sum_{j=1}^{n}ar^j = \\frac{1(1-r^n}{1-r}.$$\n",
    "Primeiramente vemos que a fórmula é valida para "
   ]
  },
  {
   "cell_type": "code",
   "execution_count": null,
   "id": "ed359995",
   "metadata": {},
   "outputs": [],
   "source": []
  },
  {
   "cell_type": "code",
   "execution_count": null,
   "id": "34974111",
   "metadata": {},
   "outputs": [],
   "source": []
  },
  {
   "cell_type": "code",
   "execution_count": 5,
   "id": "fedd8329-0cc7-48f8-9bb0-9053f0b41fe6",
   "metadata": {},
   "outputs": [
    {
     "data": {
      "image/png": "[encoded data removed]",
      "text/plain": [
       "<Figure size 640x480 with 1 Axes>"
      ]
     },
     "metadata": {},
     "output_type": "display_data"
    }
   ],
   "source": [
    "import numpy as np\n",
    "import matplotlib.pyplot as plt\n",
    "\n",
    "x = np.linspace(-np.pi/2, np.pi/2, 1000)   # generate 1000 evenly spaced points between -pi and pi\n",
    "y_sin = np.abs(np.sin(x/2))                      # compute sin(x) for each x\n",
    "y_x = np.abs(x/2)                                # set y=x for each x\n",
    "\n",
    "plt.plot(x, y_sin, label='sin(x)')     # plot sin(x) as a blue line\n",
    "plt.plot(x, y_x, label='x', color='orange')    # plot x as an orange line\n",
    "plt.legend()                           # display the legend\n",
    "plt.show()                             # show the plot\n"
   ]
  },
  {
   "cell_type": "code",
   "execution_count": null,
   "id": "d9b102ca",
   "metadata": {},
   "outputs": [],
   "source": []
  }
 ],
 "metadata": {
  "kernelspec": {
   "display_name": "Python 3 (ipykernel)",
   "language": "python",
   "name": "python3"
  },
  "language_info": {
   "codemirror_mode": {
    "name": "ipython",
    "version": 3
   },
   "file_extension": ".py",
   "mimetype": "text/x-python",
   "name": "python",
   "nbconvert_exporter": "python",
   "pygments_lexer": "ipython3",
   "version": "3.9.13"
  }
 },
 "nbformat": 4,
 "nbformat_minor": 5
}
