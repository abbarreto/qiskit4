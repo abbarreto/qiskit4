{
 "cells": [
  {
   "cell_type": "markdown",
   "id": "08c9dfc7",
   "metadata": {},
   "source": [
    "# Experimento de Afshar: <br> Violação de relações de complementariedade?\n"
   ]
  },
  {
   "cell_type": "code",
   "execution_count": null,
   "id": "db65516a",
   "metadata": {},
   "outputs": [],
   "source": []
  },
  {
   "cell_type": "code",
   "execution_count": null,
   "id": "54827113",
   "metadata": {},
   "outputs": [],
   "source": []
  },
  {
   "cell_type": "code",
   "execution_count": null,
   "id": "fadabaf3",
   "metadata": {},
   "outputs": [],
   "source": []
  },
  {
   "cell_type": "code",
   "execution_count": null,
   "id": "af9d90c7",
   "metadata": {},
   "outputs": [],
   "source": []
  },
  {
   "cell_type": "markdown",
   "id": "e78c4c92",
   "metadata": {},
   "source": [
    "### Referências\n",
    "\n",
    "1. B. Gergely and H. Batelaan, “Simulation of Afshar’s Double Slit Experiment,” Found Phys, vol. 52, no. 4, p. 69, Jul. 2022, doi: 10.1007/s10701-022-00585-7.\n",
    "\n",
    "1. P. M. Q. Cruz and J. Fernández-Rossier, “Testing complementarity on a transmon quantum processor,” Phys. Rev. A, vol. 104, no. 3, p. 032223, Sep. 2021, doi: 10.1103/PhysRevA.104.032223.\n",
    "\n",
    "1. T. Qureshi, “Understanding Modified Two-Slit Experiments using Path Markers.” arXiv, Apr. 17, 2022. doi: 10.48550/arXiv.2204.08062.\n"
   ]
  },
  {
   "cell_type": "code",
   "execution_count": null,
   "id": "f61e20bb",
   "metadata": {},
   "outputs": [],
   "source": []
  }
 ],
 "metadata": {
  "kernelspec": {
   "display_name": "Python 3 (ipykernel)",
   "language": "python",
   "name": "python3"
  },
  "language_info": {
   "codemirror_mode": {
    "name": "ipython",
    "version": 3
   },
   "file_extension": ".py",
   "mimetype": "text/x-python",
   "name": "python",
   "nbconvert_exporter": "python",
   "pygments_lexer": "ipython3",
   "version": "3.8.8"
  }
 },
 "nbformat": 4,
 "nbformat_minor": 5
}
