{
 "cells": [
  {
   "cell_type": "markdown",
   "id": "b82a00b2",
   "metadata": {},
   "source": [
    "# Computação quântica determinística com 1 qubit (DQC1)\n",
    "\n",
    "Esse modelo considera um qubit, que chamaremos de qubit puro, inicialmente preparado em um estado $\\rho$, mais $n$ qubits preparados no estado maximamente misto $I/d$, com \n",
    "$$d=2^n.$$\n",
    "O estado global inicial é portanto\n",
    "$$\\rho_0 = \\rho\\otimes I/d.$$\n",
    "Depois disso, se aplica uma porta controlada, com o qubit puro como controle. O estado global é fica\n",
    "\\begin{align}\n",
    "\\rho_1 & = C_U \\rho_0 C_U^\\dagger \\\\\n",
    "& = \\big(|0\\rangle\\langle 0|\\otimes I + |1\\rangle\\langle 1|\\otimes U\\big)\\big((\\rho_{00}|0\\rangle\\langle0|+\\rho_{01}|0\\rangle\\langle1|+\\rho_{10}|1\\rangle\\langle0|+\\rho_{11}|1\\rangle\\langle1|)\\otimes I/d\\big)\\big(|0\\rangle\\langle 0|\\otimes I + |1\\rangle\\langle 1|\\otimes U^\\dagger\\big) \\\\\n",
    "& = d^{-1}\\big(\\rho_{00}|0\\rangle\\langle0|\\otimes I+\\rho_{01}|0\\rangle\\langle1|\\otimes I+\\rho_{10}|1\\rangle\\langle0|\\otimes U+\\rho_{11}|1\\rangle\\langle1|\\otimes U\\big)\\big(|0\\rangle\\langle 0|\\otimes I + |1\\rangle\\langle 1|\\otimes U^\\dagger\\big) \\\\\n",
    "& = d^{-1}\\big(\\rho_{00}|0\\rangle\\langle0|\\otimes I+\\rho_{01}|0\\rangle\\langle1|\\otimes U^\\dagger+\\rho_{10}|1\\rangle\\langle0|\\otimes U+\\rho_{11}|1\\rangle\\langle1|\\otimes I\\big).\n",
    "\\end{align}"
   ]
  },
  {
   "cell_type": "markdown",
   "id": "3fac68a4-c139-4eb0-940c-4a13b2c31c6b",
   "metadata": {},
   "source": [
    "Tomando o traço parcial, obteremos o estado do qubit puro:\n",
    "\\begin{align}\n",
    "\\rho_r & = Tr_p(\\rho_1) \\\\\n",
    "& = d^{-1}\\big(\\rho_{00}|0\\rangle\\langle0|\\otimes d+\\rho_{01}|0\\rangle\\langle1|\\otimes Tr(U^\\dagger)+\\rho_{10}|1\\rangle\\langle0|\\otimes Tr(U)+\\rho_{11}|1\\rangle\\langle1|\\otimes d\\big) \\\\\n",
    "& = \\rho_{00}|0\\rangle\\langle0| + d^{-1}Tr(U^\\dagger)\\rho_{01}|0\\rangle\\langle1| + d^{-1}Tr(U)\\rho_{10}|1\\rangle\\langle0| + \\rho_{11}|1\\rangle\\langle1| \\\\\n",
    "& = \\begin{bmatrix} \\rho_{00} & d^{-1}Tr(U^\\dagger)\\rho_{01} \\\\ d^{-1}Tr(U)\\rho_{10} & \\rho_{11}\\end{bmatrix} \\\\\n",
    "& = \\frac{1}{2}\\begin{bmatrix} 1+\\langle\\sigma_z\\rangle & \\langle\\sigma_x\\rangle-i\\langle\\sigma_y\\rangle \\\\ \\langle\\sigma_x\\rangle+i\\langle\\sigma_y\\rangle & 1-\\langle\\sigma_z\\rangle\\end{bmatrix}.\n",
    "\\end{align}\n",
    "\n",
    "Com isso, fazendo-se medidas no qubit puro\n",
    "$$Tr(U) = \\frac{d}{2\\rho_{10}}\\big(\\langle\\sigma_x\\rangle+i\\langle\\sigma_y\\rangle\\big).$$"
   ]
  },
  {
   "cell_type": "markdown",
   "id": "1c38b277-59de-496f-87ad-f1df1322fcf7",
   "metadata": {},
   "source": [
    "Acontece que problemas interessantes e difíceis podem ser resolvidos estimando-se o traço de uma matriz unitária, o que pode ser feito como o DQC1.Note que se o qubit puro não possuir coerência, então $Tr(U)=0$. Para um estado puro com máxima coerência, \n",
    "$$|+\\rangle = 2^{-1/2}(|0\\rangle+|1\\rangle),$$\n",
    "teremos\n",
    "$$Tr(U) = d\\big(\\langle\\sigma_x\\rangle+i\\langle\\sigma_y\\rangle\\big).$$"
   ]
  },
  {
   "cell_type": "code",
   "execution_count": null,
   "id": "81f8e9cb-134f-4753-ad45-c8cd6644532e",
   "metadata": {},
   "outputs": [],
   "source": []
  },
  {
   "cell_type": "markdown",
   "id": "145318c6-5cf4-4e2a-a986-960bf40d4699",
   "metadata": {},
   "source": [
    "### Referências\n",
    "\n",
    "* B. P. Lanyon, M. Barbieri, M. P. Almeida, and A. G. White, “Experimental Quantum Computing without Entanglement,” Phys. Rev. Lett., vol. 101, no. 20, p. 200501, Nov. 2008, doi: 10.1103/PhysRevLett.101.200501.\n",
    "\n",
    "* E. I. Goettems, T. O. Maciel, D. O. Soares-Pinto, and E. I. Duzzioni, “Promoting quantum correlations in deterministic quantum computation with a one-qubit model via postselection,” Phys. Rev. A, vol. 103, no. 4, p. 042416, Apr. 2021, doi: 10.1103/PhysRevA.103.042416.\n"
   ]
  },
  {
   "cell_type": "code",
   "execution_count": null,
   "id": "eb6ba29d-2614-4b27-b895-cb17c883faba",
   "metadata": {},
   "outputs": [],
   "source": []
  }
 ],
 "metadata": {
  "kernelspec": {
   "display_name": "Python 3 (ipykernel)",
   "language": "python",
   "name": "python3"
  },
  "language_info": {
   "codemirror_mode": {
    "name": "ipython",
    "version": 3
   },
   "file_extension": ".py",
   "mimetype": "text/x-python",
   "name": "python",
   "nbconvert_exporter": "python",
   "pygments_lexer": "ipython3",
   "version": "3.9.13"
  }
 },
 "nbformat": 4,
 "nbformat_minor": 5
}
