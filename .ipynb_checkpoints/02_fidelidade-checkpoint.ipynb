{
 "cells": [
  {
   "cell_type": "markdown",
   "id": "25e99fb0",
   "metadata": {},
   "source": [
    "# Fidelidade\n",
    "\n",
    "A fidelidade quântica entre dois estados quânticos $\\rho$ e $\\sigma$ é um medida da similaridade entre estes estados definida como\n",
    "$$F(\\rho,\\sigma) = Tr\\sqrt{\\sqrt{\\rho}\\sigma\\sqrt{\\rho}}.$$\n",
    "\n",
    "Se um dos estados é puro ($A=\\sum_j a_j|a_j\\rangle\\langle a_j|\\ \\therefore\\ \\sqrt{A}=\\sum_j \\sqrt{a_j}|a_j\\rangle\\langle a_j|$),\n",
    "$$\\rho=|\\psi\\rangle\\langle\\psi|\\ \\therefore\\ \\sqrt{\\rho}=\\sqrt{1}|\\psi\\rangle\\langle\\psi|=|\\psi\\rangle\\langle\\psi|,$$\n",
    "teremos\n",
    "\\begin{align}\n",
    "F(|\\psi\\rangle,\\sigma) & = Tr\\sqrt{\\sqrt{|\\psi\\rangle\\langle\\psi|}\\sigma\\sqrt{|\\psi\\rangle\\langle\\psi|}} \\\\\n",
    "& = Tr\\sqrt{|\\psi\\rangle\\langle\\psi|\\sigma|\\psi\\rangle\\langle\\psi|} \\\\\n",
    "& = Tr\\sqrt{\\langle\\psi|\\sigma|\\psi\\rangle|\\psi\\rangle\\langle\\psi|} \\\\\n",
    "& = Tr(\\sqrt{\\langle\\psi|\\sigma|\\psi\\rangle}|\\psi\\rangle\\langle\\psi|) \\\\\n",
    "& = \\sqrt{\\langle\\psi|\\sigma|\\psi\\rangle}Tr(|\\psi\\rangle\\langle\\psi|) \\\\\n",
    "& = \\sqrt{\\langle\\psi|\\sigma|\\psi\\rangle}.\n",
    "\\end{align}"
   ]
  },
  {
   "cell_type": "markdown",
   "id": "4afbf840",
   "metadata": {},
   "source": [
    "Se os dois estados são puros, então\n",
    "\\begin{align}\n",
    "F(|\\psi\\rangle,|\\phi\\rangle) & = \\sqrt{\\langle\\psi|\\phi\\rangle\\langle\\phi|\\psi\\rangle} \\\\\n",
    "& = \\sqrt{|\\langle\\psi|\\phi\\rangle|^2} \\\\\n",
    "& = |\\langle\\psi|\\phi\\rangle|.\n",
    "\\end{align}\n",
    "\n",
    "Para provar o teorema de Uhlmann, o que faremos na sequência, precisaremos do seguinte resultado para o produto interno de Hilbert-Schmidt.\n"
   ]
  },
  {
   "cell_type": "markdown",
   "id": "7f4d71c7",
   "metadata": {},
   "source": [
    "## Fórmula alternativa para o produto interno de Hilbert-Schmidt\n",
    "\n",
    "O produto interno de Hilbert-Schmidt é definido e pode ser escrito como segue\n",
    "\\begin{align}\n",
    "\\langle A|B\\rangle & = Tr(A^\\dagger B) \\\\\n",
    "& = \\sum_j \\langle j|A^\\dagger B|j\\rangle \\\\\n",
    "& = \\sum_j \\langle j|A^\\dagger I B|j\\rangle \\\\\n",
    "& = \\sum_{j,k} \\langle j|A^\\dagger|k\\rangle\\langle k| B|j\\rangle \\\\\n",
    "& = \\sum_{j,k} \\langle j|(A^*)^T |k\\rangle\\langle k| B|j\\rangle \\\\\n",
    "& = \\sum_{j,k} \\langle k|A^* |j\\rangle\\langle k| B|j\\rangle.\n",
    "\\end{align}"
   ]
  },
  {
   "cell_type": "markdown",
   "id": "840bc5d6",
   "metadata": {},
   "source": [
    "Agora consideremos que o operador $A$ atua em $\\mathcal{H}_A$ e o operador $B$ atua no espaço de Hilbert $\\mathcal{H}_B$, com  $\\mathcal{H}_A= \\mathcal{H}_B$. Consideremos o seguinte vetor do espaço composto $\\mathcal{H}_A\\otimes\\mathcal{H}_B$:\n",
    "$$|\\Phi\\rangle = \\sum_j |j\\rangle\\otimes|j\\rangle.$$\n",
    "Teremos assim que\n",
    "\\begin{align}\n",
    "\\langle \\Phi|(A^*\\otimes B)|\\Phi\\rangle & = \\sum_j\\langle j|\\otimes\\langle j| (A^*\\otimes B)\\sum_k |k\\rangle\\otimes|k\\rangle \\\\\n",
    "& = \\sum_{j,k}\\langle j|A^*|k\\rangle\\otimes\\langle j|B|k\\rangle \\\\\n",
    "& = \\sum_{j,k}\\langle j|A^*|k\\rangle\\langle j|B|k\\rangle \\\\\n",
    "& = \\sum_{j,k}\\langle k|A^*|j\\rangle\\langle k|B|j\\rangle.\n",
    "\\end{align}\n",
    "\n",
    "Por conseguinte\n",
    "$$\\langle A|B\\rangle = Tr(A^\\dagger B) = \\langle \\Phi|(A^*\\otimes B)|\\Phi\\rangle.$$"
   ]
  },
  {
   "cell_type": "markdown",
   "id": "936fd318",
   "metadata": {},
   "source": [
    "Para provar o teorema de Uhlmann, o que faremos na sequência, precisaremos do seguinte lema.\n",
    "## Lema\n",
    "Seja $A$ um operador linear qualquer e $U$ um operador unitário. Então\n",
    "$$|Tr(AU)|\\le Tr|A|,$$\n",
    "com a igualdade obtida com \n",
    "$$U=V^\\dagger,$$\n",
    "em que\n",
    "$$A=|A|V$$\n",
    "é a decomposição polar do operador $A$.\n",
    "\n",
    "Com relação à notação, define-se\n",
    "$$|A| = \\sqrt{A^\\dagger A}.$$"
   ]
  },
  {
   "cell_type": "markdown",
   "id": "0bad14c6",
   "metadata": {},
   "source": [
    "### Prova\n",
    "Usando a igualdade obtida acima para o produto interno de Hilbert-Schmidt e a desigualdade de Cauchy-Schwarz ($|\\langle\\psi|\\phi\\rangle|^2\\le\\langle\\psi|\\psi\\rangle\\langle\\phi|\\phi\\rangle\\ \\forall |\\psi\\rangle,|\\phi\\rangle$).\n",
    "Teremos assim que\n",
    "\\begin{align}\n",
    "|Tr(AU)| & = |Tr(|A|VU)| \\\\\n",
    "& = |Tr(|A|^{1/2}|A|^{1/2}VU)| \\\\\n",
    "& = |\\langle|A|^{1/2}\\big| |A|^{1/2}VU)\\rangle| \\\\\n",
    "& \\le \\sqrt{\\langle|A|^{1/2}\\big| |A|^{1/2}\\rangle\\langle|A|^{1/2}VU\\big| |A|^{1/2}VU)\\rangle} \\\\\n",
    "& = \\sqrt{Tr(|A|^{1/2}|A|^{1/2})Tr(U^\\dagger V^\\dagger|A|^{1/2}|A|^{1/2}VU))} \\\\\n",
    "& = \\sqrt{Tr(|A|)Tr(VUU^\\dagger V^\\dagger|A|))} \\\\\n",
    "& = \\sqrt{Tr(|A|)Tr(|A|))} \\\\\n",
    "& = Tr(|A|).\n",
    "\\end{align}"
   ]
  },
  {
   "cell_type": "markdown",
   "id": "a7606c7f",
   "metadata": {},
   "source": [
    "A condição de igualdade é facilmente verificada\n",
    "\\begin{align}\n",
    "Tr(AU) & = Tr(|A|V V^\\dagger) \\\\\n",
    "& = Tr(|A|).\n",
    "\\end{align}\n",
    "Completamos assim a prova do lema. $\\square$"
   ]
  },
  {
   "cell_type": "markdown",
   "id": "b17149b6",
   "metadata": {},
   "source": [
    "## Teorema de Uhlmann\n",
    "Consideremos dois operadores densidade \n",
    "\\begin{align}\n",
    "& \\rho = \\sum_j r_j|r_j\\rangle\\langle r_j|, \\\\\n",
    "& \\sigma = \\sum_j s_j|s_j\\rangle\\langle s_j|,\n",
    "\\end{align}\n",
    "definidos no espaço de Hilbert $\\mathcal{H}_A$. Usando um sistema auxiliar $\\mathcal{H}_B$, com $\\mathcal{H}_B=\\mathcal{H}_A$, podemos escrever as seguinte purificações gerais\n",
    "\\begin{align}\n",
    "& |\\psi\\rangle = \\sum_j \\sqrt{r_j}|r_j\\rangle\\otimes|b_j\\rangle, \\\\\n",
    "& |\\phi\\rangle = \\sum_j \\sqrt{s_j}|s_j\\rangle\\otimes|c_j\\rangle.\n",
    "\\end{align}\n",
    "Ou seja\n",
    "\\begin{align}\n",
    "& \\rho = Tr_B (|\\psi\\rangle\\langle \\psi|), \\\\\n",
    "& \\sigma = Tr_B (|\\phi\\rangle\\langle \\phi|).\n",
    "\\end{align}\n",
    "Teremos assim que\n",
    "$$F(\\rho,\\sigma) = Tr\\sqrt{\\sqrt{\\rho}\\sigma\\sqrt{\\rho}} = \\max_{|\\psi\\rangle,|\\phi\\rangle}|\\langle\\psi|\\phi\\rangle|.$$"
   ]
  },
  {
   "cell_type": "markdown",
   "id": "c631b670",
   "metadata": {},
   "source": [
    "### Prova\n",
    "Para \n",
    "$$|\\Phi\\rangle = \\sum_j |j\\rangle\\otimes|j\\rangle,$$\n",
    "podemos verificar que as purificações acima podem ser escritas como segue\n",
    "\\begin{align}\n",
    "|\\psi\\rangle & = (\\sqrt{\\rho}U\\otimes V)|\\Phi\\rangle \\\\\n",
    "& = (\\sum_j r_j |r_j\\rangle\\langle r_j| U\\otimes V)\\sum_k|k\\rangle\\otimes|k\\rangle \\\\\n",
    "& = \\sum_{j,k} r_j |r_j\\rangle\\langle r_j| U|k\\rangle\\otimes V|k\\rangle \\\\\n",
    "& =: \\sum_{j,k} r_j |r_j\\rangle\\langle r_j|r_k\\rangle\\otimes |b_k\\rangle \\\\\n",
    "& = \\sum_{j} r_j |r_j\\rangle\\otimes |b_k\\rangle,\n",
    "\\end{align}\n",
    "em que usamos\n",
    "$$|b_j\\rangle := V|j\\rangle,\\ |r_j\\rangle = U|j\\rangle.$$\n",
    "Claro, $U$ e $V$ devem ser matrizes unitárias."
   ]
  },
  {
   "cell_type": "markdown",
   "id": "608014e7",
   "metadata": {},
   "source": [
    "Analogamente, pode ser mostrar que\n",
    "$$|\\phi\\rangle  = (\\sqrt{\\sigma}W\\otimes X)|\\Phi\\rangle$$\n",
    "com\n",
    "$$|b_j\\rangle := X|j\\rangle,\\ |s_j\\rangle = W|j\\rangle,$$\n",
    "$W$ e $X$ sendo matrizes unitárias.\n",
    "\n",
    "Com isso, vem que\n",
    "\\begin{align}\n",
    "|\\langle\\psi|\\phi\\rangle| & = \\big|\\langle\\Phi|(U^\\dagger\\otimes V^\\dagger\\sqrt{\\rho})(W\\otimes\\sqrt{\\sigma}X)|\\Phi\\rangle\\big| \\\\\n",
    "& = \\big|\\langle\\Phi|(U^\\dagger W\\otimes V^\\dagger\\sqrt{\\rho}\\sqrt{\\sigma}X)|\\Phi\\rangle\\big| \\\\\n",
    "& = \\big|\\langle\\Phi|((U^T W^*)^*\\otimes V^\\dagger\\sqrt{\\rho}\\sqrt{\\sigma}X)|\\Phi\\rangle\\big| \\\\\n",
    "& = \\big|Tr\\big((U^T W^*)^\\dagger V^\\dagger\\sqrt{\\rho}\\sqrt{\\sigma}X\\big)\\big| \\\\\n",
    "& = \\big|Tr\\big(XW^T U^*V^\\dagger\\sqrt{\\rho}\\sqrt{\\sigma}\\big)\\big| \\\\\n",
    "& = \\big|Tr\\big(\\sqrt{\\rho}\\sqrt{\\sigma}XW^T U^*V^\\dagger\\big)\\big| \\\\\n",
    "& =: \\big|Tr\\big(\\sqrt{\\rho}\\sqrt{\\sigma}Y\\big)\\big| \\\\\n",
    "& \\le Tr\\big|\\sqrt{\\rho}\\sqrt{\\sigma}\\big| \\\\\n",
    "& = Tr\\sqrt{\\sqrt{\\sigma}\\sqrt{\\rho}\\sqrt{\\rho}\\sqrt{\\sigma}} \\\\\n",
    "& = Tr\\sqrt{\\sqrt{\\sigma}\\rho\\sqrt{\\sigma}} \\\\\n",
    "& = F(\\sigma,\\rho),\n",
    "\\end{align}\n",
    "com $Y := XW^T U^*V^\\dagger$ sendo uma matriz unitária.\n",
    "\n",
    "Completamos assim a prova do teorema. $\\square$"
   ]
  },
  {
   "cell_type": "markdown",
   "id": "f77166a9",
   "metadata": {},
   "source": [
    "## Expressão mais simples pra a fidelidade\n",
    "Dado que \n",
    "$$F(\\rho,\\sigma) = \\max_{|\\psi\\rangle,|\\phi\\rangle}|\\langle\\psi|\\phi\\rangle|,$$\n",
    "com $|\\psi\\rangle$ e $|\\phi\\rangle$ sendo purificações de $\\rho$ e $\\sigma$, respectivamente, podemos verificar que \n",
    "$$F(\\rho,\\sigma) = \\max_{|\\phi\\rangle}|\\langle\\psi|\\phi\\rangle|.$$\n",
    "Ou seja, podemos usar uma purificação, $|\\psi\\rangle$, fixa e maximizar somente sobre a outra purificação $|\\phi\\rangle$.\n",
    "\n",
    "As purificações gerais dos operadores densidade\n",
    "\\begin{align}\n",
    "& \\rho = \\sum_j r_j|r_j\\rangle\\langle r_j|, \\\\\n",
    "& \\sigma = \\sum_j s_j|s_j\\rangle\\langle s_j|,\n",
    "\\end{align}\n",
    "podem ser escritas como\n",
    "\\begin{align}\n",
    "& |\\psi\\rangle = \\sum_j \\sqrt{r_j}|r_j\\rangle\\otimes|b_j\\rangle, \\\\\n",
    "& |\\phi\\rangle = \\sum_j \\sqrt{s_j}|s_j\\rangle\\otimes|c_j\\rangle\n",
    "\\end{align}\n",
    "com as bases ortonormais dadas por\n",
    "\\begin{align}\n",
    "& |b_j\\rangle = U|j\\rangle, \\\\\n",
    "& |c_j\\rangle = V|j\\rangle,\n",
    "\\end{align}\n",
    "em que $U$ e $V$ são matrizes unitárias e $\\{|j\\rangle\\}$ é a base computacional."
   ]
  },
  {
   "cell_type": "markdown",
   "id": "dbd7797c",
   "metadata": {},
   "source": [
    "Teremos assim que\n",
    "\\begin{align}\n",
    "\\langle\\psi|\\phi\\rangle & = \\sum_j\\sqrt{r_j}\\langle r_j|\\otimes\\langle b_j|\\sum_k \\sqrt{s_k}|s_k\\rangle\\otimes|c_k\\rangle \\\\\n",
    "& = \\sum_j\\sqrt{r_j}\\langle r_j|\\sum_k \\sqrt{s_k}|s_k\\rangle\\otimes\\langle b_j|c_k\\rangle \\\\\n",
    "& = \\sum_j\\sqrt{r_j}\\langle r_j|\\sum_k \\sqrt{s_k}|s_k\\rangle\\otimes\\langle j|U^\\dagger V|k\\rangle \\\\\n",
    "& =: \\sum_j\\sqrt{r_j}\\langle r_j|\\sum_k \\sqrt{s_k}|s_k\\rangle\\otimes\\langle j|W|k\\rangle \\\\\n",
    "& = \\sum_j\\sqrt{r_j}\\langle r_j|\\sum_k \\sqrt{s_k}|s_k\\rangle\\otimes\\langle j|d_k\\rangle \\\\\n",
    "& = \\sum_j\\sqrt{r_j}\\langle r_j|\\otimes\\langle j|\\sum_k \\sqrt{s_k}|s_k\\rangle\\otimes|d_k\\rangle \\\\\n",
    "& =: \\langle\\psi'|\\phi'\\rangle,\n",
    "\\end{align}\n",
    "em que definimos\n",
    "\\begin{align}\n",
    "& |\\psi'\\rangle := \\sum_j\\sqrt{r_j}|r_j\\rangle\\otimes|j\\rangle, \\\\\n",
    "& |\\phi'\\rangle := \\sum_k \\sqrt{s_k}|s_k\\rangle\\otimes|d_k\\rangle,\n",
    "\\end{align}\n",
    "e\n",
    "$$W:= U^\\dagger V,$$\n",
    "que também é uma matriz unitária, e portanto \n",
    "$$|d_k\\rangle=W|k\\rangle$$\n",
    "é uma base ortonormal geral do espaço de Hilbert correspondente. \n",
    "\n",
    "_OBS_. Esta expressão simplificada vai ser particularmente útil para estudar discórdia de Bures."
   ]
  },
  {
   "cell_type": "markdown",
   "id": "d395b0c4",
   "metadata": {},
   "source": [
    "# Cálculo mais eficiente da fidelidade\n",
    "\n",
    "Na ref. 2, mostrou-se que a fidelidade pode ser escrita como\n",
    "$$F(\\rho,\\sigma) = Tr\\sqrt{\\sqrt{\\rho}\\sigma\\sqrt{\\rho}} = Tr\\sqrt{\\rho\\sigma}. $$\n",
    "Note que o cálculo dessa nova expressão envolve somente uma diagonalização de matriz, enquanto que calcular a expressão original envolve 2 diagonalizações de matriz.\n",
    "\n",
    "Observa-se que os autores usaram alguns resultados (não totalmente convincentes) de álgebra linear para provar esse resultado. A seguir apresentamos uma demonstração alternativa."
   ]
  },
  {
   "cell_type": "markdown",
   "id": "07cfbf7a",
   "metadata": {},
   "source": [
    "Vamos considerar uma função $f$ que pode ser expandida em série de Taylor. Assim, para 3 operadores lineares quaisquer $A,B,C$, podemos escrever\n",
    "$$f(ABC) = \\sum_{j=0}^{\\infty}c_j(ABC)^j.$$\n",
    "\n",
    "Podemos usar a propriedade cíclica do traço para notar que\n",
    "\\begin{align}\n",
    "Tr((ABC)^j) & = Tr((ABC)(ABC)\\cdots (ABC)) \\\\\n",
    "& = Tr((CAB)(CAB)\\cdots (CAB)) \\\\\n",
    "& = Tr((CAB)^j).\n",
    "\\end{align}"
   ]
  },
  {
   "cell_type": "markdown",
   "id": "cd142f3e",
   "metadata": {},
   "source": [
    "Com isso, vemos que\n",
    "\\begin{align}\n",
    "Tr(f(ABC)) & = Tr(\\sum_{j=0}^{\\infty}c_j(ABC)^j) \\\\\n",
    "& = \\sum_{j=0}^{\\infty}c_jTr((ABC)^j) \\\\\n",
    "& = \\sum_{j=0}^{\\infty}c_jTr((CAB)^j) \\\\\n",
    "& = Tr(\\sum_{j=0}^{\\infty}c_j(CAB)^j) \\\\\n",
    "& = Tr(f(CAB)).\n",
    "\\end{align}"
   ]
  },
  {
   "cell_type": "markdown",
   "id": "91fe9ebe",
   "metadata": {},
   "source": [
    "Por conseguinte, considerando a fidelidade, com \n",
    "$$f(.)=\\sqrt{.},$$\n",
    "e \n",
    "$$A=\\sqrt{\\rho},\\ B=\\sigma,\\ C=\\sqrt{\\rho},$$\n",
    "teremos que\n",
    "\\begin{align}\n",
    "F(\\rho,\\sigma) & = Tr\\sqrt{\\sqrt{\\rho}\\sigma\\sqrt{\\rho}} \\\\\n",
    "& = Tr\\sqrt{\\sqrt{\\rho}\\sqrt{\\rho}\\sigma} \\\\\n",
    "& = Tr\\sqrt{\\rho\\sigma}.\n",
    "\\end{align}"
   ]
  },
  {
   "cell_type": "markdown",
   "id": "19c102ed",
   "metadata": {},
   "source": [
    "## Aplicações????"
   ]
  },
  {
   "cell_type": "markdown",
   "id": "cda3e8ad",
   "metadata": {},
   "source": [
    "### Referências\n",
    "\n",
    "1. M. A. Nielsen and I. L. Chuang, Quantum Computation and Quantum Information (Cambridge University Press, Cambridge, England, 2000).\n",
    "\n",
    "1. A. J. Baldwin and J. A. Jones, “Efficiently computing the Uhlmann fidelity for density matrices,” Phys. Rev. A, vol. 107, no. 1, p. 012427, Jan. 2023, doi: 10.1103/PhysRevA.107.012427.\n"
   ]
  },
  {
   "cell_type": "code",
   "execution_count": null,
   "id": "0b8f800e",
   "metadata": {},
   "outputs": [],
   "source": []
  }
 ],
 "metadata": {
  "kernelspec": {
   "display_name": "Python 3 (ipykernel)",
   "language": "python",
   "name": "python3"
  },
  "language_info": {
   "codemirror_mode": {
    "name": "ipython",
    "version": 3
   },
   "file_extension": ".py",
   "mimetype": "text/x-python",
   "name": "python",
   "nbconvert_exporter": "python",
   "pygments_lexer": "ipython3",
   "version": "3.9.13"
  }
 },
 "nbformat": 4,
 "nbformat_minor": 5
}
