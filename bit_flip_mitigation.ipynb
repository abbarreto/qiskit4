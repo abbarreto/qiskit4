{
 "cells": [
  {
   "cell_type": "markdown",
   "id": "e1d8a6ba",
   "metadata": {},
   "source": [
    "# Mitigação do bit-flip clássico"
   ]
  },
  {
   "cell_type": "code",
   "execution_count": null,
   "id": "03c0b4d3",
   "metadata": {},
   "outputs": [],
   "source": []
  },
  {
   "cell_type": "code",
   "execution_count": null,
   "id": "dfffc982",
   "metadata": {},
   "outputs": [],
   "source": []
  },
  {
   "cell_type": "code",
   "execution_count": null,
   "id": "53f110b7",
   "metadata": {},
   "outputs": [],
   "source": []
  },
  {
   "cell_type": "code",
   "execution_count": null,
   "id": "4066d3b5",
   "metadata": {},
   "outputs": [],
   "source": []
  },
  {
   "cell_type": "code",
   "execution_count": null,
   "id": "5c0c75c9",
   "metadata": {},
   "outputs": [],
   "source": []
  },
  {
   "cell_type": "markdown",
   "id": "a80f20e5",
   "metadata": {},
   "source": [
    "### Referências\n",
    "\n",
    "1. L. Funcke, T. Hartung, K. Jansen, S. Kühn, P. Stornati, and X. Wang, “Measurement Error Mitigation in Quantum Computers Through Classical Bit-Flip Correction,” Phys. Rev. A, vol. 105, no. 6, p. 062404, Jun. 2022, doi: 10.1103/PhysRevA.105.062404."
   ]
  },
  {
   "cell_type": "code",
   "execution_count": null,
   "id": "6ad0590f",
   "metadata": {},
   "outputs": [],
   "source": []
  }
 ],
 "metadata": {
  "kernelspec": {
   "display_name": "Python 3 (ipykernel)",
   "language": "python",
   "name": "python3"
  },
  "language_info": {
   "codemirror_mode": {
    "name": "ipython",
    "version": 3
   },
   "file_extension": ".py",
   "mimetype": "text/x-python",
   "name": "python",
   "nbconvert_exporter": "python",
   "pygments_lexer": "ipython3",
   "version": "3.8.11"
  }
 },
 "nbformat": 4,
 "nbformat_minor": 5
}
