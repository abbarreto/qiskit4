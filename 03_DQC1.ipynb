{
 "cells": [
  {
   "cell_type": "markdown",
   "id": "b82a00b2",
   "metadata": {},
   "source": [
    "# Computação quântica determinística com 1 qubit"
   ]
  },
  {
   "cell_type": "code",
   "execution_count": null,
   "id": "863a93eb",
   "metadata": {},
   "outputs": [],
   "source": []
  },
  {
   "cell_type": "code",
   "execution_count": null,
   "id": "8a6dc542-c90b-4cd5-aab5-e58685d1ba42",
   "metadata": {},
   "outputs": [],
   "source": []
  },
  {
   "cell_type": "code",
   "execution_count": null,
   "id": "81f8e9cb-134f-4753-ad45-c8cd6644532e",
   "metadata": {},
   "outputs": [],
   "source": []
  },
  {
   "cell_type": "markdown",
   "id": "145318c6-5cf4-4e2a-a986-960bf40d4699",
   "metadata": {},
   "source": [
    "### Referências\n",
    "\n",
    "* E. I. Goettems, T. O. Maciel, D. O. Soares-Pinto, and E. I. Duzzioni, “Promoting quantum correlations in deterministic quantum computation with a one-qubit model via postselection,” Phys. Rev. A, vol. 103, no. 4, p. 042416, Apr. 2021, doi: 10.1103/PhysRevA.103.042416.\n"
   ]
  },
  {
   "cell_type": "code",
   "execution_count": null,
   "id": "eb6ba29d-2614-4b27-b895-cb17c883faba",
   "metadata": {},
   "outputs": [],
   "source": []
  }
 ],
 "metadata": {
  "kernelspec": {
   "display_name": "Python 3 (ipykernel)",
   "language": "python",
   "name": "python3"
  },
  "language_info": {
   "codemirror_mode": {
    "name": "ipython",
    "version": 3
   },
   "file_extension": ".py",
   "mimetype": "text/x-python",
   "name": "python",
   "nbconvert_exporter": "python",
   "pygments_lexer": "ipython3",
   "version": "3.9.13"
  }
 },
 "nbformat": 4,
 "nbformat_minor": 5
}
