{
 "cells": [
  {
   "cell_type": "markdown",
   "id": "6864892f",
   "metadata": {},
   "source": [
    "### Notas de aula de Computação Quântica <br> Autor: Jonas Maziero"
   ]
  },
  {
   "cell_type": "code",
   "execution_count": 1,
   "id": "bb081206",
   "metadata": {},
   "outputs": [],
   "source": [
    "%run init.ipynb"
   ]
  },
  {
   "cell_type": "markdown",
   "id": "01ceaf6f",
   "metadata": {},
   "source": [
    "# Algoritmo para estimativa de fase\n",
    "\n",
    "Consideremos uma transformação unitária $U$ com autovalor/autovetor\n",
    "$$U|u\\rangle = e^{2\\pi i\\varphi}|u\\rangle \\text{ com } \\varphi\\in[0,1).$$\n",
    "O problema que o algoritmo discutido aqui resolve é aquele de estimar o autovalor desse operador, mais precisamente, o de estimar $\\varphi$. Por agora, teremos que assumir que um oráculo é capaz de preparar a quantidade necessária de qubits no estado $|u\\rangle$. A 1ª parte do Algoritmo de estimativa de fase está mostrado na figura abaixo.\n",
    "\n",
    "<img src='fig_phase_estimation.png' width='400'>"
   ]
  },
  {
   "cell_type": "markdown",
   "id": "29d7ffa1",
   "metadata": {},
   "source": [
    "No 1º registro temos $t$ qubits e no 2º registro que $q$ qubits. O estado inicial total é\n",
    "$$|\\Psi_{0}\\rangle = |0\\rangle^{\\otimes t}|u\\rangle.$$\n",
    "A aplicação das portas de Hadamard nos primeiros $t$ qubits nos fornece\n",
    "\\begin{align}\n",
    "|\\Psi_{1}\\rangle & = H^{\\otimes t}|0\\rangle^{\\otimes t}\\otimes |u\\rangle \\\\\n",
    "& = |+\\rangle^{\\otimes t}|u\\rangle \\\\\n",
    "& = 2^{-t/2}\\big(|0\\rangle_{0}+|1\\rangle_{0}\\big)\\big(|0\\rangle_{1}+|1\\rangle_{1}\\big)\\cdots\\big(|0\\rangle_{t-1}+|1\\rangle_{t-1}\\big)|u\\rangle.\n",
    "\\end{align}\n",
    "Seguindo aplica-se as portas unitárias controladas\n",
    "\\begin{align}\n",
    "|\\Psi_{2}\\rangle & = \\Pi_{j=0}^{t-1}C_{U^{t-1-j}}^{j\\rightarrow 2º}|\\Psi_{1}\\rangle \\\\\n",
    "& = \\Pi_{j=1}^{t-1}C_{U^{t-1-j}}^{j\\rightarrow 2º}2^{-t/2}\\big(|0\\rangle_{0}|u\\rangle+|1\\rangle_{0}U^{2^{t-1}}|u\\rangle\\big)\\big(|0\\rangle_{1}+|1\\rangle_{1}\\big)\\cdots\\big(|0\\rangle_{t-1}+|1\\rangle_{t-1}\\big) \\\\\n",
    "& = \\Pi_{j=1}^{t-1}C_{U^{t-1-j}}^{j\\rightarrow 2º}2^{-t/2}\\big(|0\\rangle_{0}|u\\rangle+|1\\rangle_{0}e^{2\\pi i\\varphi 2^{t-1}}|u\\rangle\\big)\\big(|0\\rangle_{1}+|1\\rangle_{1}\\big)\\cdots\\big(|0\\rangle_{t-1}+|1\\rangle_{t-1}\\big) \\\\\n",
    "& \\vdots \\\\\n",
    "& = 2^{-t/2}\\big(|0\\rangle_{0}+e^{2\\pi i\\varphi 2^{t-1}}|1\\rangle_{0}\\big)\\big(|0\\rangle_{1}+e^{2\\pi i\\varphi 2^{t-2}}|1\\rangle_{1}\\big)\\cdots\\big(|0\\rangle_{t-1}+e^{2\\pi i\\varphi 2^{0}}|1\\rangle_{t-1}\\big)|u\\rangle \\\\\n",
    "& = 2^{-t/2}\\big(|0\\rangle_{0}+e^{2\\pi i\\varphi 2^{t}2^{-1}}|1\\rangle_{0}\\big)\\big(|0\\rangle_{1}+e^{2\\pi i\\varphi 2^{t}2^{-2}}|1\\rangle_{1}\\big)\\cdots\\big(|0\\rangle_{t-1}+e^{2\\pi i\\varphi 2^{t}2^{-t}}|1\\rangle_{t-1}\\big)|u\\rangle,\n",
    "\\end{align}\n",
    "com\n",
    "$$C_{U^{t-1-j}}^{j\\rightarrow 2º} = |0\\rangle_{j}\\langle 0|\\otimes\\mathbb{I}_{2º} + |1\\rangle_{j}\\langle 1|\\otimes U^{2^{t-1-j}}_{2º}$$\n",
    "e\n",
    "$$U^{2^{t-1-j}}_{2º}|u\\rangle = e^{2\\pi i\\varphi 2^{t-2-j}}|u\\rangle.$$\n",
    "OBS. Chama a atenção ter que aplicar essas potências de $U$. Como fica isso na prática? Existe forma eficiente de fazer isso?"
   ]
  },
  {
   "cell_type": "markdown",
   "id": "bf48a603",
   "metadata": {},
   "source": [
    "Vimos que a ação da transformada de Fourier quântica é\n",
    "\\begin{align}\n",
    "F|j\\rangle & =F|j_{1}j_{2}\\cdots j_{n-1}j_{n}\\rangle \\\\\n",
    "& = \\frac{1}{\\sqrt{2^{n}}}\\Big(|0\\rangle+e^{2\\pi ij2^{-1}}|1\\rangle\\Big)\\Big(|0\\rangle+e^{2\\pi ij2^{-2}}|1\\rangle\\Big)\\cdots\\Big(|0\\rangle+e^{2\\pi ij2^{-n+1}}|1\\rangle\\Big)\\Big(|0\\rangle+e^{2\\pi ij2^{-n}}|1\\rangle\\Big).\n",
    "\\end{align}\n",
    "Notemos que \n",
    "$$F|j\\rangle = |\\Psi_{2}\\rangle \\text{ se } \\varphi2^{t}=j \\text{ e } n=t.$$\n",
    "Então, se a auto-fase de $U$ tem uma expansão binária exata, i.e., se\n",
    "\\begin{align}\n",
    "\\tilde{\\varphi} & = 2^{t}\\varphi \\\\\n",
    "& = 2^{t}\\big(\\varphi_{t}2^{0}+\\varphi_{t-1}2^{1}+\\cdots+\\varphi_{2}^{t-2}+\\varphi_{1}2^{t-1},\n",
    "\\end{align}\n",
    "podemos aplicar a __transformada de Fourier inversa__ para obter\n",
    "$$|2^{t}\\varphi_{1}\\varphi_{2}\\cdots \\varphi_{t}\\rangle = F^{-1}|\\Psi_{2}\\rangle.$$\n",
    "Assim, medindo o 1º registro na base computacional, teremos uma estimativa de $\\varphi$. \n",
    "\n",
    "No caso em que $\\varphi$ não pode ser escrito como uma fração binária, pode-se mostrar que a probabilidade de se obter $\\varphi$ com erro $\\delta$ é\n",
    "$$Pr(\\delta)\\le \\frac{1}{2^{2t}\\delta^{2}}.$$"
   ]
  },
  {
   "cell_type": "code",
   "execution_count": null,
   "id": "370e6a75",
   "metadata": {},
   "outputs": [],
   "source": []
  },
  {
   "cell_type": "markdown",
   "id": "f1dfb737",
   "metadata": {},
   "source": [
    "### Referências\n",
    "\n",
    "* Kitaev, A.Y.. Quantum measurements and the Abelian Stabilizer Problem, http://arxiv.org/abs/quant-ph/9511026 (1995).\n",
    "\n",
    "* Bacon, D.. Quantum Computing, https://courses.cs.washington.edu/courses/cse599d/06wi/ (2006)."
   ]
  },
  {
   "cell_type": "code",
   "execution_count": null,
   "id": "faef05a7",
   "metadata": {},
   "outputs": [],
   "source": []
  }
 ],
 "metadata": {
  "kernelspec": {
   "display_name": "Python 3 (ipykernel)",
   "language": "python",
   "name": "python3"
  },
  "language_info": {
   "codemirror_mode": {
    "name": "ipython",
    "version": 3
   },
   "file_extension": ".py",
   "mimetype": "text/x-python",
   "name": "python",
   "nbconvert_exporter": "python",
   "pygments_lexer": "ipython3",
   "version": "3.8.11"
  }
 },
 "nbformat": 4,
 "nbformat_minor": 5
}
